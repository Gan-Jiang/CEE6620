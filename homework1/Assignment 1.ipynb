{
 "cells": [
  {
   "cell_type": "markdown",
   "metadata": {},
   "source": [
    "# Assignment 1\n",
    "We will first go through a basic introduction on Jupyter notebook. If you are already familiar with Jupyter notebook, feel free to skip it. Following this, there will be two parts to the assignment; a theoretical component and a coding component. For the theoretical part, you can directly type your solutions in a markdown cell and insert any images you might want to add directly into the cell using the markup (see below). For the implementation part, please use Python 3.X to solve the problem. \n",
    "## 0 Basic introduction on Jupyter notebook\n",
    "The Jupyter Notebook is an open-source web application that allows you to create and share documents that contain live code, visualizations and narrative text, etc. Uses include: data cleaning and transformation, numerical simulation, statistical modeling, data visualization, machine learning, and much more. In this semester, all the assignments will be in Jupyter notebook format. The following is the basic introduction on Jupyter notebook. \n",
    "### (1) Cell\n",
    "When you create a new notebook, you should see something like a little box as follows:\n",
    "<img src=\"cell.png\">\n",
    "This is called a cell. You will write and run your code in cells. You can also change it to Markdown cell (a lightweight markup language with plain text formatting syntax), in which you can write text. \n",
    "\n",
    "In the toolbar, click “Code” to change it to Code and back: \n",
    "<img src=\"changemarkdown.png\">"
   ]
  },
  {
   "cell_type": "markdown",
   "metadata": {},
   "source": [
    "### (2) Code cells. \n",
    "Most of your work in notebooks will be done in code cells. In code cells you can write code, define functions and classes, etc. Try to run the following cells (you can first choose the cell you want to run, and then click the run button in the toolbar or use the shortcut shift + enter) to get familiar with code cells. Feel free to change the codes or insert new code cells as you like. "
   ]
  },
  {
   "cell_type": "code",
   "execution_count": null,
   "metadata": {
    "collapsed": true
   },
   "outputs": [],
   "source": [
    "print('Hello World')"
   ]
  },
  {
   "cell_type": "code",
   "execution_count": null,
   "metadata": {
    "collapsed": true
   },
   "outputs": [],
   "source": [
    "import numpy as np    #import numpy package\n",
    "A = np.zeros([3, 3])    #create a all-0 3 by 3 numpy array\n",
    "print(A)"
   ]
  },
  {
   "cell_type": "code",
   "execution_count": null,
   "metadata": {
    "collapsed": true
   },
   "outputs": [],
   "source": [
    "A"
   ]
  },
  {
   "cell_type": "markdown",
   "metadata": {},
   "source": [
    "If you have managed to run the above cells, you should have noticed that: (1) you will see your codes' output right after the code cell; (2) Any code executed in one cell is available in all other cells. \n",
    "### (3) Markdown cells\n",
    "As mentioned before, cells can also be used for text written in Markdown. It allows you to write a narrative along with your codes so that everyone is easy to follow your work. As with code cells, you press Shift + Enter to run the Markdown cell, and it will render the Markdown to formatted text. Now try to insert a cell below and try to use it as a Markdown cell. You can write anything you want in it. "
   ]
  },
  {
   "cell_type": "markdown",
   "metadata": {},
   "source": [
    "### (4) Toolbar\n",
    "You should have already seen that there are several buttons in the toolbar. \n",
    "<img src=\"toolbar.png\">\n",
    "Try to learn the function of each button by placing your mouse over each button. Feel free to try this yourself. "
   ]
  },
  {
   "cell_type": "markdown",
   "metadata": {},
   "source": [
    "### (5) Finishing up\n",
    "In summary, you can code in code cells just as where you coded before, and you can get the results imediately after you run the cell. Markdown cells are where you write the instructions for the codes. Remember to save the file while you work on your homework. You can do it by using the shortcut ctrl + S. The last function I want to mention is that you can show a picture in the Markdown cell like the above, you can double click the above cell that contains picture to see how I did it. "
   ]
  },
  {
   "cell_type": "markdown",
   "metadata": {},
   "source": [
    "# 1 Theoretical part\n",
    "For this section, please insert a Markdown cell after each question, and write your answer in it. \n",
    "## 1. 1 Graph Search (6 points)\n",
    "(1) Describe this following network using an adjacency matrix representation. Note that this is a directed network.\n",
    "<img src=\"network1.png\" style=\"width: 550px;\"/>"
   ]
  },
  {
   "cell_type": "markdown",
   "metadata": {},
   "source": [
    "(2) Use Dijkstra’s algorithm to find the shortest path from Node 1 to all other nodes. Please refer to the Dijkstra’s algorithm exercise in the lecture notes and show your work step by step. For each step, please provide the values of each variable using a matrix that consists of the Index, Distance, Completed and Paths. Please specify the shortest path and its corresponding cost. If the shortest path between two nodes is not unique, you only need to provide one path. "
   ]
  },
  {
   "cell_type": "markdown",
   "metadata": {},
   "source": [
    "(3) What would you do if you had to compute the shortest path from all other nodes to Node 6? Can you do better than solving Dijkstra’s algorithm five times (one for each origin)? "
   ]
  },
  {
   "cell_type": "markdown",
   "metadata": {},
   "source": [
    "## 1. 2 Flow maximization (6 points)\n",
    "The following table lists the maximum daily capacity of bus services between a set of cities in the Northeast.\n",
    "<img src=\"table1.png\" style=\"width: 820px;\"/>\n",
    "(1) Draw a network showing the connectivity of the bus routes and the corresponding capacities between each of the cities."
   ]
  },
  {
   "cell_type": "markdown",
   "metadata": {},
   "source": [
    "(2) An event is taking place at midnight in Buffalo and a large number of people from Boston wish to travel to Buffalo on the day of the event. What is the maximum number of people that can travel by bus from Boston to Buffalo in one day? Please use the Ford Fulkerson augment path algorithm to solve this problem and show a sketch of the residual network with the updated flows and residual flows for each path that is processed. Also show the final maximum flow state of the network."
   ]
  },
  {
   "cell_type": "markdown",
   "metadata": {},
   "source": [
    "(3) Can you increase the capacity of flow from Boston to Buffalo by only changing the capacity of a single bus line? If so, what are all the options for doing this? "
   ]
  },
  {
   "cell_type": "markdown",
   "metadata": {},
   "source": [
    "# 2 Implementation part\n",
    "You will implement the shortest path algorithms and employ them on a real-size transportation network (Manhattan). Before that, you will first learn the basic usage of a useful tool: networkX. \n",
    "## 2. 0  Basic introduction on NetworkX package. \n",
    "NetworkX is a Python package for the creation, manipulation, and study of the structure, dynamics, and functions of complex networks. It provides the data structures for graphs, digraphs, multigraphs and many standard graph algorithms such as Dijkstra's algorithm. Later in this homework, you will manipulate the Manhattan driving network using the package. Now, let's go through some basic usages of it. We will use the shortest path algorithm in the Manhattan network, so let's first load it. For this section, you only need to run the codes we provide, and see what happens. "
   ]
  },
  {
   "cell_type": "code",
   "execution_count": 1,
   "metadata": {
    "collapsed": true
   },
   "outputs": [],
   "source": [
    "#you do not need to change any of the following codes.\n",
    "import networkx    #import dependencies\n",
    "import pickle\n",
    "Manhattan_network = pickle.load(open(\"Manhattan_network.p\", \"rb\"))    #load the network"
   ]
  },
  {
   "cell_type": "code",
   "execution_count": null,
   "metadata": {},
   "outputs": [],
   "source": [
    "import osmnx as ox    #This is used to plot the network. It is not necessary for the homework. \n",
    "ox.plot_graph(ox.project_graph(Manhattan_network))    #plot the network. "
   ]
  },
  {
   "cell_type": "markdown",
   "metadata": {},
   "source": [
    "Now we have seen the network. Let' see how many nodes and edges are there in the network. We can examine the nodes and edges using G.nodes and G.edges (assuming that G is the network you are using). These data structures provide a read-only view of the nodes and edges. We can easily see what's in the network by using the following codes. "
   ]
  },
  {
   "cell_type": "code",
   "execution_count": null,
   "metadata": {
    "collapsed": true
   },
   "outputs": [],
   "source": [
    "Manhattan_network.nodes"
   ]
  },
  {
   "cell_type": "code",
   "execution_count": null,
   "metadata": {
    "collapsed": true
   },
   "outputs": [],
   "source": [
    "Manhattan_network.edges"
   ]
  },
  {
   "cell_type": "markdown",
   "metadata": {},
   "source": [
    "We can see that the data structure is called NodeView and OutMultiEdgeView, and the numbers in it are the id of each node and edge. We can also get how many nodes are there by using len. "
   ]
  },
  {
   "cell_type": "code",
   "execution_count": null,
   "metadata": {
    "collapsed": true
   },
   "outputs": [],
   "source": [
    "len(Manhattan_network.nodes)"
   ]
  },
  {
   "cell_type": "code",
   "execution_count": null,
   "metadata": {
    "collapsed": true
   },
   "outputs": [],
   "source": [
    "len(Manhattan_network.edges)"
   ]
  },
  {
   "cell_type": "markdown",
   "metadata": {},
   "source": [
    "There are 4460 nodes and 9680 edges in the network. Here we can get a sense of what size a real network is, and the scale is always the reason that we need better algorithms. We can access each node and edge as we are using dict in Python. "
   ]
  },
  {
   "cell_type": "code",
   "execution_count": null,
   "metadata": {
    "collapsed": true
   },
   "outputs": [],
   "source": [
    "Manhattan_network.nodes[42459137]"
   ]
  },
  {
   "cell_type": "code",
   "execution_count": null,
   "metadata": {
    "collapsed": true
   },
   "outputs": [],
   "source": [
    "Manhattan_network.edges[(42444116, 42444123, 0)]    #the id of each edge is usually (orinodeid, destnodeid, 0). There is a \n",
    "#0 there because the format of the graph is multigraph. If there are multiple edges between a pair of nodes, there will be 0\n",
    "#1, 2, etc. "
   ]
  },
  {
   "cell_type": "markdown",
   "metadata": {},
   "source": [
    "We can see the properties of node and edge. osmid is the id of each node or edge. What we will use in this assignment are: 'osmid', 'x', 'y' and 'length'. Now we have already know how to access the node and edge. What we need to do next is to find the adjacencies between nodes more quickly. We can do it by using G.adj.  "
   ]
  },
  {
   "cell_type": "code",
   "execution_count": null,
   "metadata": {
    "collapsed": true
   },
   "outputs": [],
   "source": [
    "Manhattan_network.adj"
   ]
  },
  {
   "cell_type": "markdown",
   "metadata": {},
   "source": [
    "Let's see the adjacency of the node 42459137. "
   ]
  },
  {
   "cell_type": "code",
   "execution_count": null,
   "metadata": {
    "collapsed": true
   },
   "outputs": [],
   "source": [
    "Manhattan_network.adj[42459137]"
   ]
  },
  {
   "cell_type": "markdown",
   "metadata": {},
   "source": [
    "These are all the nodes that adjacent to node 42459137. Now, you are able to get access to each node and edge in the data structure as well as the length of each edge. We should be able to use these information to implement the shortest path algorithm. It is your turn now! "
   ]
  },
  {
   "cell_type": "markdown",
   "metadata": {},
   "source": [
    "## 2.1 Implementation of the shortest path algorithms. \n",
    "In this section, you will implement three versions of shortest path algorithms, and use them to find the shortest path between the set of nodes pairs we provide. You should be able to compare the results and the efficiency of the algorithms easily. The three algorithms are: Dijkstra's algorithm without using priority queue, Dijkstra's algorithm using priority queue, and A* algorithm. The output of these algorithms should include: (1) the shortest path distance; (2) a list that contains all the edges in the shortest path. Use the 'length' of each edge as the weight. As you are implementing three versions of shortest path algorithm, you should be able to verify the correctness of your solution easily by comparing the results of each. \n",
    "### (1) Dijkstra's algorithm without using priority queue (6 points)\n",
    "Here you are not allowed to use priority queue, which means that you have to find the unvisited node that is marked with the smallest distance using linear search in each iteration. "
   ]
  },
  {
   "cell_type": "code",
   "execution_count": null,
   "metadata": {
    "collapsed": true
   },
   "outputs": [],
   "source": [
    "def dijkstra_no_pq(ori, dest, G):\n",
    "    '''\n",
    "    ori: origin node ID\n",
    "    dest: destination node ID\n",
    "    G: network file\n",
    "    '''\n",
    "    #TODO: this is where your code begin\n",
    "    "
   ]
  },
  {
   "cell_type": "markdown",
   "metadata": {},
   "source": [
    "I have sampled 50 nodes randomly from the network, which is stored in sample_nodes.p file. If you are not familar with pickle, please learn how to load and dump a data structure here: https://docs.python.org/3/library/pickle.html. Now we use time package to compute the computation time. Call your function to find the shortest path for each OD pair (there should be 50 * 49 of them). "
   ]
  },
  {
   "cell_type": "code",
   "execution_count": null,
   "metadata": {
    "collapsed": true
   },
   "outputs": [],
   "source": [
    "import pickle\n",
    "import time\n",
    "#TODO: load sample_nodes.p file\n",
    "\n",
    "start = time.time()\n",
    "#TODO: call the function you write to find the shortest paths between each pair of nodes in sample_nodes.p. \n",
    "#Please store the shortest path distance for each pair in a dict called short_distance_no_pq. The key is (ori, dest),\n",
    "#and value is the shortest path distance. Then, store it as short_distance_no_pq.p. \n",
    "\n",
    "\n",
    "\n",
    "\n",
    "\n",
    "end = time.time()\n",
    "print('total computation time: ' + str(end - start))"
   ]
  },
  {
   "cell_type": "markdown",
   "metadata": {},
   "source": [
    "### (2) Dijkstra's algorithm using priority queue (6 points)\n",
    "A priority queue is an abstract data type which is like a regular queue or stack data structure, but where additionally each element has a \"priority\" associated with it. In a priority queue, an element with high priority is served before an element with low priority (https://en.wikipedia.org/wiki/Priority_queue). Here we can use a priority queue to store the unvisited nodes, and get the node with the smallest distance from the priority queue in each iteration. We want to use this data structure because in priority queue it will take O(log n) to put and remove an element. In a list, it will take O(n). This will make a large difference in practice when n is a large number. You do not need to implement your own priority queue, but instead you can use heapq package (https://docs.python.org/3/library/heapq.html). Note that the heapq package does not have a DecreaseKey function, so you will need to work around this. "
   ]
  },
  {
   "cell_type": "code",
   "execution_count": null,
   "metadata": {
    "collapsed": true
   },
   "outputs": [],
   "source": [
    "def dijkstra_pq(ori, dest, G):\n",
    "    '''\n",
    "    ori: origin node ID\n",
    "    dest: destination node ID\n",
    "    G: network file\n",
    "    '''\n",
    "    #TODO: this is where your code begin\n",
    "    "
   ]
  },
  {
   "cell_type": "markdown",
   "metadata": {},
   "source": [
    "Similiarly, please use time package to record the computation time for your function. This time you do not need to import time or load sample_nodes.p since you have already done it. "
   ]
  },
  {
   "cell_type": "code",
   "execution_count": null,
   "metadata": {
    "collapsed": true
   },
   "outputs": [],
   "source": [
    "start = time.time()\n",
    "#TODO: call the function you write to find the shortest paths between each pair of nodes in sample_nodes.p. \n",
    "#Please store the shortest path distance for each pair in a dict called short_distance_pq. The key is (ori, dest),\n",
    "#and value is the shortest path distance. Then, store it as short_distance_pq.p. \n",
    "\n",
    "\n",
    "\n",
    "\n",
    "\n",
    "end = time.time()\n",
    "print('total computation time: ' + str(end - start))"
   ]
  },
  {
   "cell_type": "markdown",
   "metadata": {},
   "source": [
    "### 2.3.3 A* algorithm (6 points)\n",
    "As we discussed in class, the A* algorithm is able to use a heuristic to potentially prune the search space compared to Dijkstra's algorithm, and thus provide better performance. As we have the latitudes and longitudes for each node in our network, please use the haversine formula to obtain the great circle distance as the heuristic. The function is given below:"
   ]
  },
  {
   "cell_type": "code",
   "execution_count": null,
   "metadata": {
    "collapsed": true
   },
   "outputs": [],
   "source": [
    "from math import radians, cos, sin, asin, sqrt\n",
    "def haversine(lon1, lat1, lon2, lat2):\n",
    "    \"\"\"\n",
    "    Calculate the great circle distance between two points\n",
    "    on the earth\n",
    "    \"\"\"\n",
    "    # convert decimal degrees to radians\n",
    "    lon1, lat1, lon2, lat2 = map(radians, [lon1, lat1, lon2, lat2])\n",
    "\n",
    "    # haversine formula\n",
    "    dlon = lon2 - lon1\n",
    "    dlat = lat2 - lat1\n",
    "    a = sin(dlat/2)**2 + cos(lat1) * cos(lat2) * sin(dlon/2)**2\n",
    "    c = 2 * asin(sqrt(a))\n",
    "    r = 6371 # Radius of earth in kilometers. Use 3956 for miles\n",
    "    return (c * r) * 1000"
   ]
  },
  {
   "cell_type": "code",
   "execution_count": null,
   "metadata": {
    "collapsed": true
   },
   "outputs": [],
   "source": [
    "def A_star(ori, dest, G):\n",
    "    '''\n",
    "    ori: origin node ID\n",
    "    dest: destination node ID\n",
    "    G: network file\n",
    "    '''\n",
    "    #TODO: this is where your code begin\n",
    "    "
   ]
  },
  {
   "cell_type": "code",
   "execution_count": null,
   "metadata": {
    "collapsed": true
   },
   "outputs": [],
   "source": [
    "start = time.time()\n",
    "#TODO: call the function you write to find the shortest paths between each pair of nodes in sample_nodes.p. \n",
    "#Please store the shortest path distance for each pair in a dict called short_distance_A. The key is (ori, dest),\n",
    "#and value is the shortest path distance. Then, store it as short_distance_A.p. \n",
    "\n",
    "\n",
    "\n",
    "\n",
    "\n",
    "end = time.time()\n",
    "print('total computation time: ' + str(end - start))"
   ]
  },
  {
   "cell_type": "markdown",
   "metadata": {},
   "source": [
    "If your implementation is correct, you should see the performance difference. "
   ]
  },
  {
   "cell_type": "markdown",
   "metadata": {},
   "source": [
    "### Bonus question: visualize the shortest path on network (4 points)\n",
    "For the bonus question, please plot the road network, and mark the shortest path (nodes and edges) using a different color. Feel free to search online for help, and use any method that can achieve the goal is welcome! Write your function in the following cell, and call the function to visualize one of the shortest path you find above. "
   ]
  },
  {
   "cell_type": "code",
   "execution_count": null,
   "metadata": {
    "collapsed": true
   },
   "outputs": [],
   "source": [
    "def visualize_path(G, path):\n",
    "    '''\n",
    "    G: networkx file\n",
    "    path: the list of edges in the shortest path\n",
    "    '''\n",
    "    "
   ]
  },
  {
   "cell_type": "markdown",
   "metadata": {},
   "source": [
    "### Submission instruction\n",
    "After you finish all the problems, you should download the notebook as a html file. Then, please put all the files (notebook, html, output files, pictures if you use any, and all the files needed to run your code) into a .zip file, and submit the .zip file via blackboard. "
   ]
  }
 ],
 "metadata": {
  "kernelspec": {
   "display_name": "Python [default]",
   "language": "python",
   "name": "python3"
  },
  "language_info": {
   "codemirror_mode": {
    "name": "ipython",
    "version": 3
   },
   "file_extension": ".py",
   "mimetype": "text/x-python",
   "name": "python",
   "nbconvert_exporter": "python",
   "pygments_lexer": "ipython3",
   "version": "3.5.4"
  }
 },
 "nbformat": 4,
 "nbformat_minor": 2
}
